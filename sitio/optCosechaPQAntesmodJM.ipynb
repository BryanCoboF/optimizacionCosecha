{
  "nbformat": 4,
  "nbformat_minor": 0,
  "metadata": {
    "colab": {
      "provenance": [],
      "authorship_tag": "ABX9TyO6rrTYjui6GNghrfUttoNz",
      "include_colab_link": true
    },
    "kernelspec": {
      "name": "python3",
      "display_name": "Python 3"
    },
    "language_info": {
      "name": "python"
    }
  },
  "cells": [
    {
      "cell_type": "markdown",
      "metadata": {
        "id": "view-in-github",
        "colab_type": "text"
      },
      "source": [
        "<a href=\"https://colab.research.google.com/github/BryanCoboF/optimizacionCosecha/blob/main/sitio/optCosechaPQAntesmodJM.ipynb\" target=\"_parent\"><img src=\"https://colab.research.google.com/assets/colab-badge.svg\" alt=\"Open In Colab\"/></a>"
      ]
    },
    {
      "cell_type": "markdown",
      "source": [
        "Configuración Inicial\n",
        "Llamada a librerias"
      ],
      "metadata": {
        "id": "lPogpnOnaDMS"
      }
    },
    {
      "cell_type": "code",
      "execution_count": 326,
      "metadata": {
        "id": "AfrjyXy-Z7Qk",
        "colab": {
          "base_uri": "https://localhost:8080/"
        },
        "outputId": "1399e5a5-67b1-4775-84fc-250eb97bceaf"
      },
      "outputs": [
        {
          "output_type": "stream",
          "name": "stdout",
          "text": [
            "Requirement already satisfied: pulp in /usr/local/lib/python3.10/dist-packages (2.7.0)\n"
          ]
        }
      ],
      "source": [
        "#Configuracion de librerias\n",
        "%config IPCompleter.greedy=True\n",
        "!pip install pulp\n",
        "import pandas as pd\n",
        "import numpy as np\n",
        "import xlrd\n",
        "import seaborn as sb\n",
        "import matplotlib.pyplot as plt\n",
        "from matplotlib.ticker import PercentFormatter\n",
        "import pulp\n",
        "from pulp import LpVariable, LpProblem, LpMaximize, LpMinimize\n",
        "from pydrive.auth import GoogleAuth\n",
        "from pydrive.drive import GoogleDrive\n",
        "\n"
      ]
    },
    {
      "cell_type": "markdown",
      "source": [
        "Carga de datos de Excel desde drive"
      ],
      "metadata": {
        "id": "1n2Zfd2naLWH"
      }
    },
    {
      "cell_type": "code",
      "source": [
        "\n",
        "from google.colab import files\n",
        "from google.colab import drive\n",
        "\n",
        "drive.mount('/content/drive') # Permite ingresar a drive desde las carpetas de drive\n",
        "\n",
        "df = pd.read_excel(\"/content/drive/MyDrive/PB/BaseOpt2023.xlsx\") # Carga el excel de datos de proyeccion, si se necesita cambiar el archivo se debe modificar el link\n",
        "\n"
      ],
      "metadata": {
        "id": "Ja62JauvaMvx",
        "colab": {
          "base_uri": "https://localhost:8080/"
        },
        "outputId": "32e44011-5425-4c2e-c912-d2ade63e1bb7"
      },
      "execution_count": 327,
      "outputs": [
        {
          "output_type": "stream",
          "name": "stdout",
          "text": [
            "Drive already mounted at /content/drive; to attempt to forcibly remount, call drive.mount(\"/content/drive\", force_remount=True).\n"
          ]
        }
      ]
    },
    {
      "cell_type": "markdown",
      "source": [
        "Ingreso de datos deseados\n",
        "\n",
        "\n",
        "1.   Volumen deseado por cada mes\n",
        "3.   Densidad deseada por cada mes\n",
        "2.   Edad minima y maxima deseada\n"
      ],
      "metadata": {
        "id": "3UWQP7U2aaWK"
      }
    },
    {
      "cell_type": "code",
      "source": [
        "# Volumen deseado cada mes\n",
        "vecVolDeseado = []\n",
        "vecVolR11minDeseado = []\n",
        "vecVolR11maxDeseado = []\n",
        "vecVolmaxDeseado = []\n",
        "vecDensminDeseada = []\n",
        "vecDensmaxDeseada = []\n",
        "\n",
        "#semanasMes = [4,4,5,4,5,4,4,5,4,4,5,4] #Numero de semanas por cada mes\n",
        "semanasMes = [0,0,0,0,0,0,0,4,4,4,4,4] #Numero de semanas por cada mes\n",
        "#Ingreso de volumen anual deseado\n",
        "volDes = float(input(\"Ingrese el volumen deseado 2024: \"))\n",
        "\n",
        "# Calculo del volumen deseado para cada mes en base al deseado anual y las semanas que tiene cada mes.\n",
        "#for i in range(12):\n",
        "#  vecVolDeseado.append((volDes/52)*semanasMes[i])\n",
        "\n",
        "\n",
        "# Calculo del volumen deseado para cada mes en base al deseado anual y las semanas que tiene cada mes.\n",
        "for i in range(12):\n",
        "  vecVolDeseado.append((volDes/20)*semanasMes[i])\n",
        "\n",
        "# --------------------------------------------------------------------------------------------------\n",
        "# Solo usado para 2023 comentar para los siguientes años\n",
        "vecVolDeseado = [0,0,0,0,0,0,0,2250000,2500000,2500000,2000000,1800000] #Numero de semanas por cada mes\n",
        "# ---------------------------------------------------------------------------------------------------\n",
        "\n",
        "print(vecVolDeseado)\n",
        "print(sum(vecVolDeseado))\n",
        "\n",
        "#Ingreso de edad deseada\n",
        "edadMinDes = float(input(\"Ingrese la edad minima de cosecha : \"))\n",
        "areaMaxCosecha = float(input(\"Ingrese el area máxima cosechable por sitio cada mes: \"))"
      ],
      "metadata": {
        "id": "Z6e90qhEadZQ",
        "colab": {
          "base_uri": "https://localhost:8080/"
        },
        "outputId": "a64c4e19-1b1d-419c-9afe-9ce90d802280"
      },
      "execution_count": 328,
      "outputs": [
        {
          "name": "stdout",
          "output_type": "stream",
          "text": [
            "Ingrese el volumen deseado 2024: 11050000\n",
            "[0, 0, 0, 0, 0, 0, 0, 2250000, 2500000, 2500000, 2000000, 1800000]\n",
            "11050000\n",
            "Ingrese la edad minima de cosecha : 26\n",
            "Ingrese el area máxima cosechable por sitio cada mes: 150\n"
          ]
        }
      ]
    },
    {
      "cell_type": "markdown",
      "source": [
        "OBTENCION  DE DATOS DEL EXCEL\n",
        "Creación de Diccionarios Y VECTORES\n"
      ],
      "metadata": {
        "id": "USVEaCtVn-bh"
      }
    },
    {
      "cell_type": "code",
      "source": [
        "# Obtencion de datos de sitio-año de plantacion\n",
        "colSitioAnio = df['Sitio-AñoPlantación']\n",
        "\n",
        "# Obtencion de datos area neta\n",
        "colAreaNeta = df['Sum of Área Neta del Lote (Ha)']\n",
        "\n",
        "# ------------- Obtencion de datos de edad -----------------\n",
        "# Recibe data frame con los datos de cada mes del excel\n",
        "# Crea un diccionario por cada mes con los datos por sitio-lote\n",
        "#Enero\n",
        "colEdadEne = df['Sum of Edad pond ENE']\n",
        "#Febrero\n",
        "colEdadFeb = df['Sum of Edad pond FEB']\n",
        "#Marzo\n",
        "colEdadMar = df['Sum of Edad pond MAR']\n",
        "#Abril\n",
        "colEdadAbr = df['Sum of Edad pond ABR']\n",
        "#Mayo\n",
        "colEdadMay = df['Sum of Edad pond MAY']\n",
        "#Junio\n",
        "colEdadJun = df['Sum of Edad pond JUN']\n",
        "#Julio\n",
        "colEdadJul = df['Sum of Edad pond JUL']\n",
        "#Agosto\n",
        "colEdadAgo = df['Sum of Edad pond AGO']\n",
        "#Septiembre\n",
        "colEdadSep = df['Sum of Edad pond SEP']\n",
        "#Octubre\n",
        "colEdadOct = df['Sum of Edad pond OCT']\n",
        "#Noviembre\n",
        "colEdadNov = df['Sum of Edad pond NOV']\n",
        "#Diciembre\n",
        "colEdadDic = df['Sum of Edad pond DIC']\n",
        "\n",
        "\n",
        "#--------OBTENCION DE DATOS DE RENDIMIENTO ----------------\n",
        "# Obtiene los datos de rendimiento del data frame de excel de cada mes proyectado\n",
        "#Enero\n",
        "colRendProyEne = df['Sum of Rend pond ENE']\n",
        "#Febrero\n",
        "colRendProyFeb = df['Sum of Rend pond FEB']\n",
        "#Marzo\n",
        "colRendProyMar = df['Sum of Rend pond MAR']\n",
        "#Abril\n",
        "colRendProyAbr = df['Sum of Rend pond ABR']\n",
        "#Mayo\n",
        "colRendProyMay = df['Sum of Rend pond MAY']\n",
        "#Junio\n",
        "colRendProyJun = df['Sum of Rend pond JUN']\n",
        "#Julio\n",
        "colRendProyJul = df['Sum of Rend pond JUL']\n",
        "#Agosto\n",
        "colRendProyAgo = df['Sum of Rend pond AGO']\n",
        "#Septiembre\n",
        "colRendProySep = df['Sum of Rend pond SEP']\n",
        "#Octubre\n",
        "colRendProyOct = df['Sum of Rend pond OCT']\n",
        "#Noviembre\n",
        "colRendProyNov = df['Sum of Rend pond NOV']\n",
        "#Dicimebre\n",
        "colRendProyDic = df['Sum of Rend pond DIC']\n",
        "\n",
        "#------- OBTENCION DE DATOS DE ACCESIBILIDAD -------------------\n",
        "#Enero\n",
        "colAccesoEne = df['Sum of AccesibilidadENE']\n",
        "#Febrero\n",
        "colAccesoFeb = df['Sum of AccesibilidadFEB']\n",
        "#Marzo\n",
        "colAccesoMar = df['Sum of AccesibilidadMAR']\n",
        "#Abril\n",
        "colAccesoAbr = df['Sum of AccesibilidadABR']\n",
        "#Mayo\n",
        "colAccesoMay = df['Sum of AccesibilidadMAY']\n",
        "#Junio\n",
        "colAccesoJun = df['Sum of AccesibilidadJUN']\n",
        "#Julio\n",
        "colAccesoJul = df['Sum of AccesibilidadJUL']\n",
        "#Agosto\n",
        "colAccesoAgo = df['Sum of AccesibilidadAGO']\n",
        "#Septiembre\n",
        "colAccesoSep = df['Sum of AccesibilidadSEP']\n",
        "#Octubre\n",
        "colAccesoOct = df['Sum of AccesibilidadOCT']\n",
        "#Novimebre\n",
        "colAccesoNov = df['Sum of AccesibilidadNOV']\n",
        "#Diciembre\n",
        "colAccesoDic = df['Sum of AccesibilidadDIC']\n",
        "\n",
        "# Obtencion de costo de activo biologico\n",
        "colCostoActBio = df['Sum of CostoActBio Pond']\n",
        "\n",
        "# -----------OBTENCION DE COSTO OPERACIONAL ------------------------\n",
        "#Enero\n",
        "colCostoOpeEne = df['Sum of Costo Operacional pond ENE']\n",
        "#Febrero\n",
        "colCostoOpeFeb = df['Sum of Costo Operacional pond FEB']\n",
        "#Marzo\n",
        "colCostoOpeMar = df['Sum of Costo Operacional pond MAR']\n",
        "#Abril\n",
        "colCostoOpeAbr = df['Sum of Costo Operacional pond ABR']\n",
        "#Mayo\n",
        "colCostoOpeMay = df['Sum of Costo Operacional pond MAY']\n",
        "#Junio\n",
        "colCostoOpeJun = df['Sum of Costo Operacional pond JUN']\n",
        "#Julio\n",
        "colCostoOpeJul = df['Sum of Costo Operacional pond JUL']\n",
        "#Agosto\n",
        "colCostoOpeAgo = df['Sum of Costo Operacional pond AGO']\n",
        "#Septiembre\n",
        "colCostoOpeSep = df['Sum of Costo Operacional pond SEP']\n",
        "#Octubre\n",
        "colCostoOpeOct = df['Sum of Costo Operacional pond OCT']\n",
        "#Noviembre\n",
        "colCostoOpeNov = df['Sum of Costo Operacional pond NOV']\n",
        "#Diciembre\n",
        "colCostoOpeDic = df['Sum of Costo Operacional pond DIC']\n",
        "\n",
        "\n",
        "\n",
        "\n",
        "\n",
        "# ---------CREACION DE MATRICES POR CADA MES DEL AÑO ------------\n",
        "filas = len(colSitioAnio)  # Número de filas\n",
        "columnas = 12  # Número de columnas (meses del siguiente año)\n",
        "\n",
        "#//MATRICES//\n",
        "# Inicializa las matrices n filas y 12 columnas\n",
        "#Todos los valores se inicializan  con cero  /// Todas las matrices son del mismo tamaño\n",
        "matrizEdad = [[0] * columnas for _ in range(filas)]\n",
        "matrizRend = [[0] * columnas for _ in range(filas)]\n",
        "matrizRendAux = [[0] * columnas for _ in range(filas)]\n",
        "matrizAcceso = [[0] * columnas for _ in range(filas)]\n",
        "matrizCostoOpe = [[0] * columnas for _ in range(filas)]\n",
        "matrizCostobft = [[0] * columnas for _ in range(filas)]\n",
        "\n",
        "\n",
        "# -------------Asignacion de valores a cada mes de las matrices---------\n",
        "# Matriz de Edades por cada mes del 2024\n",
        "# Matriz  de rendimientos\n",
        "# Matriz de Accesibilidad\n",
        "# Matriz de costo operacional\n",
        "\n",
        "for i in range(columnas): #recorre columnas\n",
        "  for j in range(filas): # recorre filas\n",
        "    if i == 0:\n",
        "      matrizEdad[j][i] = colEdadEne[j]\n",
        "      matrizRend[j][i] = colRendProyEne[j]\n",
        "      matrizAcceso[j][i] = colAccesoEne [j]\n",
        "\n",
        "    if i == 1:\n",
        "      matrizEdad[j][i] = colEdadFeb[j]\n",
        "      matrizRend[j][i] = colRendProyFeb[j]\n",
        "      matrizAcceso[j][i] = colAccesoFeb [j]\n",
        "\n",
        "    if i == 2:\n",
        "      matrizEdad[j][i] = colEdadMar[j]\n",
        "      matrizRend[j][i] = colRendProyMar[j]\n",
        "      matrizAcceso[j][i] = colAccesoMar [j]\n",
        "\n",
        "    if i == 3:\n",
        "      matrizEdad[j][i] = colEdadAbr[j]\n",
        "      matrizRend[j][i] = colRendProyAbr[j]\n",
        "      matrizAcceso[j][i] = colAccesoAbr [j]\n",
        "\n",
        "    if i == 4:\n",
        "      matrizEdad[j][i] = colEdadMay[j]\n",
        "      matrizRend[j][i] = colRendProyMay[j]\n",
        "      matrizAcceso[j][i] = colAccesoMay [j]\n",
        "\n",
        "    if i == 5:\n",
        "      matrizEdad[j][i] = colEdadJun[j]\n",
        "      matrizRend[j][i] = colRendProyJun[j]\n",
        "      matrizAcceso[j][i] = colAccesoJun [j]\n",
        "\n",
        "    if i == 6:\n",
        "      matrizEdad[j][i] = colEdadJul[j]\n",
        "      matrizRend[j][i] = colRendProyJul[j]\n",
        "      matrizAcceso[j][i] = colAccesoJul [j]\n",
        "\n",
        "    if i == 7:\n",
        "      matrizEdad[j][i] = colEdadAgo[j]\n",
        "      matrizRend[j][i] = colRendProyAgo[j]\n",
        "      matrizAcceso[j][i] = colAccesoAgo [j]\n",
        "\n",
        "    if i == 8:\n",
        "      matrizEdad[j][i] = colEdadSep[j]\n",
        "      matrizRend[j][i] = colRendProySep[j]\n",
        "      matrizAcceso[j][i] = colAccesoSep [j]\n",
        "\n",
        "    if i == 9:\n",
        "      matrizEdad[j][i] = colEdadOct[j]\n",
        "      matrizRend[j][i] = colRendProyOct[j]\n",
        "      matrizAcceso[j][i] = colAccesoOct [j]\n",
        "\n",
        "    if i == 10:\n",
        "      matrizEdad[j][i] = colEdadNov[j]\n",
        "      matrizRend[j][i] = colRendProyNov[j]\n",
        "      matrizAcceso[j][i] = colAccesoNov [j]\n",
        "\n",
        "    if i == 11:\n",
        "      matrizEdad[j][i] = colEdadDic[j]\n",
        "      matrizRend[j][i] = colRendProyDic[j]\n",
        "      matrizAcceso[j][i] = colAccesoDic [j]\n",
        "\n"
      ],
      "metadata": {
        "id": "WAXxHaNXoW9n"
      },
      "execution_count": 329,
      "outputs": []
    },
    {
      "cell_type": "markdown",
      "source": [
        "Creacion del diccionario con todas las edades"
      ],
      "metadata": {
        "id": "pH9Iqn0cxLFE"
      }
    },
    {
      "cell_type": "markdown",
      "source": [
        "RESTRICCION DE EDAD DE COSECHA Y ACCESIBILIDAD"
      ],
      "metadata": {
        "id": "QR8RVZxjA9DC"
      }
    },
    {
      "cell_type": "code",
      "source": [
        "# Si el sitio cumple con los requerimientos de edad y accesibilidad en ese mes se asgina el rendimiento proyectado,\n",
        "# caso contrario se asigna 0\n",
        "# Pregunta primero si desea aplicar las restricciones\n",
        "\n",
        "restEdad = float(input(\"Desea restringir edad? (SI: Ingrese 1,  NO: Ingrese 0) : \"))\n",
        "restAcceso = float(input(\"Desea restringir accesibilidad? (SI: Ingrese 1,  NO: Ingrese 0) : \"))\n",
        "\n",
        "\n",
        "if restEdad == 1 and restAcceso == 1:\n",
        "  # Restricciones completas --- Se corre solo si se ingreso que se desea restringir edad y acceso\n",
        "  for i in range(columnas): #recorre columnas\n",
        "    for j in range(filas): # recorre filas\n",
        "      if matrizAcceso[j][i] == 1 and matrizEdad[j][i] >= 26:\n",
        "        matrizRendAux[j][i] = matrizRend[j][i]\n",
        "      else:\n",
        "        matrizRendAux[j][i] = 0\n",
        "elif restEdad== 0 and restAcceso == 1:\n",
        "  # Restriccion de acceso unicamente\n",
        "  for i in range(columnas): #recorre columnas\n",
        "    for j in range(filas): # recorre filas\n",
        "      if matrizAcceso[j][i] == 1:\n",
        "        matrizRendAux[j][i] = matrizRend[j][i]\n",
        "      else:\n",
        "        matrizRendAux[j][i] = 0\n",
        "elif restEdad== 1 and restAcceso == 0:\n",
        "  # Restriccion solo de edad\n",
        "  for i in range(columnas): #recorre columnas\n",
        "    for j in range(filas): # recorre filas\n",
        "      if matrizEdad[j][i] >= 26:\n",
        "        matrizRendAux[j][i] = matrizRend[j][i]\n",
        "      else:\n",
        "        matrizRendAux[j][i] = 0\n",
        "elif restEdad== 0 and restAcceso == 0:\n",
        "  # Sin restricciones\n",
        "  for i in range(columnas): #recorre columnas\n",
        "    for j in range(filas): # recorre filas\n",
        "      matrizRendAux[j][i] = matrizRend[j][i]"
      ],
      "metadata": {
        "id": "3bOLOEH0BApS",
        "colab": {
          "base_uri": "https://localhost:8080/"
        },
        "outputId": "4fee1d14-aa12-4409-d466-967d38e141f5"
      },
      "execution_count": 330,
      "outputs": [
        {
          "name": "stdout",
          "output_type": "stream",
          "text": [
            "Desea restringir edad? (SI: Ingrese 1,  NO: Ingrese 0) : 1\n",
            "Desea restringir accesibilidad? (SI: Ingrese 1,  NO: Ingrese 0) : 0\n"
          ]
        }
      ]
    },
    {
      "cell_type": "markdown",
      "source": [
        "-------------------------------------------"
      ],
      "metadata": {
        "id": "ASeSQ0E_C4_x"
      }
    },
    {
      "cell_type": "markdown",
      "source": [
        "MODELO OPTIMIZACION"
      ],
      "metadata": {
        "id": "fRHSxSj5C1mY"
      }
    },
    {
      "cell_type": "markdown",
      "source": [
        "------------------------------------------------------------"
      ],
      "metadata": {
        "id": "9_0M60oRC8Si"
      }
    },
    {
      "cell_type": "code",
      "source": [
        "#****************************** MODELO*********************************************************************************\n",
        "#-------------Definicion del modelo-----------------\n",
        "optCosecha = pulp.LpProblem('OptimizacionCosecha',pulp.LpMaximize) #Inicialmente busca minimizar el area de cosecha para obtener el volumen necesario para Enero\n",
        "\n",
        "\n",
        "# ------------VARIABLE DE DECISION (AREA A COSECHAR)-------------------\n",
        "area_a_cosechar = [[pulp.LpVariable(f'x{i}_{j}', lowBound=0, cat='Continuous') for j in range(columnas)] for i in range(filas)]\n",
        "\n",
        "\n",
        "#--------------FUNCION OBJETIVO-------------------------\n",
        "#optCosecha += sum([rend_EneAux[i]*area_a_cosechar_Ene[i]+rend_FebAux[i]*area_a_cosechar_Feb[i]+ rend_MarAux[i]*area_a_cosechar_Mar[i]+rend_AbrAux[i]*area_a_cosechar_Abr[i]+rend_MayAux[i]*area_a_cosechar_May[i]+rend_JunAux[i]*area_a_cosechar_Jun[i]+rend_JulAux[i]*area_a_cosechar_Jul[i]+rend_AgoAux[i]*area_a_cosechar_Ago[i]+rend_SepAux[i]*area_a_cosechar_Sep[i]+rend_OctAux[i]*area_a_cosechar_Oct[i]+rend_NovAux[i]*area_a_cosechar_Nov[i]+rend_DicAux[i]*area_a_cosechar_Dic[i] for i in colSitioAnio])\n",
        "optCosecha += pulp.lpSum(matrizRendAux[i][j]*area_a_cosechar[i][j] for j in range(columnas) for i in range(filas))\n",
        "\n",
        "\n",
        "#--------------RESTRICCIONES----------------------------\n",
        "# 1) -- Restringe las areas a cosechar de cada sitio y mes para que no sean mayores al area neta\n",
        "for i in range(columnas): #recorre columnas\n",
        "  for j in range(filas): # recorre filas\n",
        "    optCosecha += area_a_cosechar[j][i] >= 0\n",
        "    optCosecha += area_a_cosechar[j][i] <= colAreaNeta[j]\n",
        "    optCosecha += area_a_cosechar[j][i] <= areaMaxCosecha\n",
        "\n",
        "# 2) -- Restringe que la suma del area a cosecha de cada sitio en todo el año sea menor o igual al area neta\n",
        "for j in range(filas): # recorre filas\n",
        "  optCosecha += sum(area_a_cosechar[j]) <= colAreaNeta[j]\n",
        "\n",
        "# 3) Restriccion de volumen anual\n",
        "optCosecha += pulp.lpSum(matrizRendAux[i][j]*area_a_cosechar[i][j] for j in range(columnas) for i in range(filas)) <= 11050000\n",
        "\n",
        "# 4) Restringe los volumenes de cada mes dependiendo del volumen deseado\n",
        "\n",
        "for j in range(columnas):\n",
        "  optCosecha += sum(matrizRendAux[i][j]*area_a_cosechar[i][j] for i in range(filas)) <= vecVolDeseado[j]\n",
        "  #optCosecha += sum(matrizRendAux[i][j]*area_a_cosechar[i][j] for i in range(filas)) >= vecVolDeseado[j]-50000\n",
        "\n",
        "# Restringe que el area maxima cosechable por mes\n",
        "\n",
        "for j in range(columnas):\n",
        "  if j<7:\n",
        "    optCosecha += sum(area_a_cosechar[i][j] for i in range(filas)) >= 0\n",
        "    optCosecha += sum(area_a_cosechar[i][j] for i in range(filas)) <= 0\n",
        "\n",
        "\n",
        "#Restringe area de agosto para rendimiento de\n",
        "#optCosecha += sum(area_a_cosechar[i][7] for i in range(filas)) >= 151\n",
        "#optCosecha += sum(area_a_cosechar[i][7] for i in range(filas)) <= 225\n",
        "\n",
        "#Restringe area de sep para rendimiento de 11700\n",
        "#optCosecha += sum(area_a_cosechar[i][8] for i in range(filas)) >= 151\n",
        "#optCosecha += sum(area_a_cosechar[i][8] for i in range(filas)) <= 240\n",
        "\n",
        "#Restringe area de OCT para rendimiento de 11700\n",
        "#optCosecha += sum(area_a_cosechar[i][9] for i in range(filas)) >= 151\n",
        "#optCosecha += sum(area_a_cosechar[i][9] for i in range(filas)) <= 240\n",
        "\n",
        "#Restringe area de nov para rendimiento de 11700\n",
        "#optCosecha += sum(area_a_cosechar[i][10] for i in range(filas)) >= 151\n",
        "#optCosecha += sum(area_a_cosechar[i][10] for i in range(filas)) <= 190\n",
        "\n",
        "#Restringe area de dic para rendimiento de 11700\n",
        "#optCosecha += sum(area_a_cosechar[i][11] for i in range(filas)) >= 151\n",
        "#optCosecha += sum(area_a_cosechar[i][11] for i in range(filas)) <= 180\n",
        "\n",
        "\n",
        "\n",
        "# -------------------------------------------------------------------------\n",
        "# RESTRICCION MUISNE\n",
        "\n",
        "#AGO\n",
        "optCosecha += area_a_cosechar[8][7]+area_a_cosechar[9][7]+area_a_cosechar[10][7] >=0   #OCT PB56 0 [Ha]\n",
        "optCosecha += area_a_cosechar[8][7]+area_a_cosechar[9][7]+area_a_cosechar[10][7] <=0   #OCT PB56 0 [Ha]\n",
        "optCosecha += area_a_cosechar[6][7]+area_a_cosechar[7][7] >=0   #OCT PB55 0 [Ha]\n",
        "optCosecha += area_a_cosechar[6][7]+area_a_cosechar[7][7] <=0   #OCT PB55 0 [Ha]\n",
        "\n",
        "#SEP\n",
        "optCosecha += area_a_cosechar[10][8]+area_a_cosechar[11][8]+area_a_cosechar[12][8] >=80.28   #SEP PB56 80.29 [Ha]\n",
        "optCosecha += area_a_cosechar[10][8]+area_a_cosechar[11][8]+area_a_cosechar[12][8] <=80.30   #SEP PB56 80.29 [Ha]\n",
        "optCosecha += area_a_cosechar[8][8]+area_a_cosechar[9][8] >=0   #OCT PB55 0 [Ha]\n",
        "optCosecha += area_a_cosechar[8][8]+area_a_cosechar[9][8] <=0   #OCT PB55 0 [Ha]\n",
        "\n",
        "#OCT\n",
        "optCosecha += area_a_cosechar[10][9]+area_a_cosechar[11][9]+area_a_cosechar[12][9] >=65.74   #OCT PB56 65.75 [Ha]\n",
        "optCosecha += area_a_cosechar[10][9]+area_a_cosechar[11][9]+area_a_cosechar[12][9] <=65.76   #OCT PB56 65.75 [Ha]\n",
        "optCosecha += area_a_cosechar[8][9]+area_a_cosechar[9][9] >=48.55   #OCT PB55 48.56 [Ha]\n",
        "optCosecha += area_a_cosechar[8][9]+area_a_cosechar[9][9] <=48.57   #OCT PB55 48.56 [Ha]\n",
        "\n",
        "#NOV\n",
        "optCosecha += area_a_cosechar[8][10]+area_a_cosechar[9][10] >=114.38   #OCT PB55 114.39 [Ha]\n",
        "optCosecha += area_a_cosechar[8][10]+area_a_cosechar[9][10] <=114.40   #OCT PB55 114.39 [Ha]\n",
        "optCosecha += area_a_cosechar[10][10]+area_a_cosechar[10][10]+area_a_cosechar[11][10] >=0   #OCT PB56 0 [Ha]\n",
        "optCosecha += area_a_cosechar[10][10]+area_a_cosechar[10][10]+area_a_cosechar[11][10] <=0   #OCT PB56 0 [Ha]\n",
        "\n",
        "#DIC\n",
        "optCosecha += area_a_cosechar[10][11]+area_a_cosechar[11][11]+area_a_cosechar[12][11] >=79.34   #OCT PB56 79.35 [Ha]\n",
        "optCosecha += area_a_cosechar[10][11]+area_a_cosechar[11][11]+area_a_cosechar[12][11] <=79.36   #OCT PB56 79.35 [Ha]\n",
        "optCosecha += area_a_cosechar[8][11]+area_a_cosechar[9][11] >=0   #OCT PB55 0 [Ha]\n",
        "optCosecha += area_a_cosechar[8][11]+area_a_cosechar[9][11] <=0   #OCT PB55 0 [Ha]\n",
        "\n",
        "\n",
        "# RESTRICCION REMANENTE PB55 2020\n",
        "optCosecha += area_a_cosechar[8][7]+area_a_cosechar[8][8]+area_a_cosechar[8][9]+area_a_cosechar[8][10]+area_a_cosechar[8][11] >=213.37-72.47\n",
        "optCosecha += area_a_cosechar[8][7]+area_a_cosechar[8][8]+area_a_cosechar[8][9]+area_a_cosechar[8][10]+area_a_cosechar[8][11] <=213.37-72.45\n",
        "#RESTRICCION NO REMANENTE  PB55 2021\n",
        "optCosecha += area_a_cosechar[9][7]+area_a_cosechar[9][8]+area_a_cosechar[9][9]+area_a_cosechar[9][10]+area_a_cosechar[9][11] >= 44   #COSECHA TODO PB56\n",
        "# RESTRICCION PB56 NO REMANENTE\n",
        "optCosecha += area_a_cosechar[10][7]+area_a_cosechar[10][8]+area_a_cosechar[10][9]+area_a_cosechar[10][10]+area_a_cosechar[10][11] >=53   #COSECHA TODO PB56\n",
        "optCosecha += area_a_cosechar[11][7]+area_a_cosechar[11][8]+area_a_cosechar[11][9]+area_a_cosechar[11][10]+area_a_cosechar[11][11] >=78   #COSECHA TODO PB56\n",
        "optCosecha += area_a_cosechar[12][7]+area_a_cosechar[12][8]+area_a_cosechar[12][9]+area_a_cosechar[12][10]+area_a_cosechar[12][11] >=70   #COSECHA TODO PB56\n",
        "\n",
        "#----------------------------------------------------------------------\n",
        "#REMANENTE MUISNE 72.46\n",
        "\n",
        "#optCosecha += area_a_cosechar[8][7]+area_a_cosechar[8][8]+area_a_cosechar[8][9]+area_a_cosechar[8][10]+area_a_cosechar[8][11]+area_a_cosechar[9][7]+area_a_cosechar[9][8]+area_a_cosechar[9][9]+area_a_cosechar[9][10]+area_a_cosechar[9][11]+ area_a_cosechar[10][7]+area_a_cosechar[10][8]+area_a_cosechar[10][9]+area_a_cosechar[10][10]+area_a_cosechar[10][11]+ area_a_cosechar[11][7]+area_a_cosechar[11][8]+area_a_cosechar[11][9]+area_a_cosechar[11][10]+area_a_cosechar[11][11]+area_a_cosechar[12][7]+area_a_cosechar[12][8]+area_a_cosechar[12][9]+area_a_cosechar[12][10]+area_a_cosechar[12][11] >= colAreaNeta[8]+colAreaNeta[9]+colAreaNeta[10]+colAreaNeta[11]+colAreaNeta[12]-72\n",
        "\n",
        "\n",
        "\n",
        "#----------------------------------------------------------------------\n",
        "# RESTRICCION MS09\n",
        "optCosecha += area_a_cosechar[13][7]+area_a_cosechar[13][8]+area_a_cosechar[13][9]+area_a_cosechar[13][10]+area_a_cosechar[13][11] >=138   #COSECHA TODO MS09\n",
        "# RESTRICCION PB63\n",
        "optCosecha += area_a_cosechar[15][7]+area_a_cosechar[15][8]+area_a_cosechar[15][9]+area_a_cosechar[15][10]+area_a_cosechar[15][11] >=50.8   #COSECHA TODO PB63\n",
        "# RESTRICCION PB64\n",
        "optCosecha += area_a_cosechar[16][7]+area_a_cosechar[16][8]+area_a_cosechar[16][9]+area_a_cosechar[16][10]+area_a_cosechar[16][11] >=71.8   #COSECHA TODO PB64\n",
        "# RESTRICCION PB51\n",
        "optCosecha += area_a_cosechar[7][7]+area_a_cosechar[7][8]+area_a_cosechar[7][9]+area_a_cosechar[7][10]+area_a_cosechar[7][11] >= 174   #COSECHA TODO PB51\n",
        "# RESTRICCION PB81\n",
        "optCosecha += area_a_cosechar[17][7]+area_a_cosechar[17][8]+area_a_cosechar[17][9]+area_a_cosechar[17][10]+area_a_cosechar[17][11] >=117   #COSECHA TODO PB64\n",
        "# RESTRICCION PB58\n",
        "optCosecha += area_a_cosechar[14][7]+area_a_cosechar[14][8]+area_a_cosechar[14][9]+area_a_cosechar[14][10]+area_a_cosechar[14][11] >=38   #COSECHA TODO PB64\n",
        "\n",
        "\n",
        "#-------------------------------------------------------------------------\n",
        "'''\n",
        "# FUERZA COSECHA FM16\n",
        "optCosecha += area_a_cosechar[0][7]+area_a_cosechar[0][8]+area_a_cosechar[0][9]+area_a_cosechar[0][10]+area_a_cosechar[0][11] >=14\n",
        "# FUERZA COSECHA FC06\n",
        "optCosecha += area_a_cosechar[3][7]+area_a_cosechar[3][8]+area_a_cosechar[3][9]+area_a_cosechar[3][10]+area_a_cosechar[3][11] >=42\n",
        "# FUERZA COSECHA MS11\n",
        "optCosecha += area_a_cosechar[4][7]+area_a_cosechar[4][8]+area_a_cosechar[4][9]+area_a_cosechar[4][10]+area_a_cosechar[4][11] >=66\n",
        "'''\n",
        "#--------------------------------------------------------------------------\n",
        "\n",
        "\n",
        "# 5) Restringe los rendimientos promedio por mes\n",
        "#for j in range(columnas):\n",
        "#  optCosecha += sum(matrizRendAux[i][j]*area_a_cosechar[i][j] for i in range(filas))/sum(area_a_cosechar[i][j] for i in range(filas)) <= 10500\n",
        "#  optCosecha += sum(matrizRendAux[i][j]*area_a_cosechar[i][j] for i in range(filas))/sum(area_a_cosechar[i][j] for i in range(filas)) >= 10000\n",
        "\n",
        "#----------------------------------------------------------\n",
        "\n",
        "#Resolucion\n",
        "optCosecha.solve()\n",
        "#****************************** MODELO*********************************************************************************\n",
        "\n",
        "\n",
        "#--------------Impresion de resultados preliminares--------------------------------------------------------------------\n",
        "a=1\n",
        "for j in range(filas): # recorre filas\n",
        "  # Imprime cada sitio con el area asignada en el mes que se va a cosechar\n",
        "  print(a, \") Areas ENE \", colSitioAnio[j], \"-> \" ,round(area_a_cosechar[j][0].value(),1), \", \" ,round(area_a_cosechar[j][1].value(),1), \", \" ,round(area_a_cosechar[j][2].value(),1),\", \" ,round(area_a_cosechar[j][3].value(),1),\", \" ,round(area_a_cosechar[j][4].value(),1),\", \" ,round(area_a_cosechar[j][5].value(),1),\", \" ,round(area_a_cosechar[j][6].value(),1),\", \" ,round(area_a_cosechar[j][7].value(),1), \", \" ,round(area_a_cosechar[j][8].value(),1),\", \" ,round(area_a_cosechar[j][9].value(),1),\", \" ,round(area_a_cosechar[j][10].value(),1),\", \" ,round(area_a_cosechar[j][11].value(),1))\n",
        "  a = a+1\n",
        "\n",
        "for b in range(columnas):\n",
        "  #Imprime el volumen a entregar cada mes\n",
        "  print(\"Vol> \", b+1, \"->\", sum(matrizRend[i][b]*area_a_cosechar[i][b].value() for i in range(filas) ))\n",
        "\n",
        "#Imprime el volumen total anual\n",
        "print(sum(matrizRend[i][j]*area_a_cosechar[i][j].value() for j in range(columnas) for i in range(filas) ))\n",
        "#-----------------------------------------------------------------------------------------------------------------------\n",
        "\n",
        "\n",
        "\n"
      ],
      "metadata": {
        "id": "4E-ui9nkC3pQ",
        "colab": {
          "base_uri": "https://localhost:8080/"
        },
        "outputId": "5c5e156b-6fd4-46a3-c4ab-7864b3aab421"
      },
      "execution_count": 331,
      "outputs": [
        {
          "output_type": "stream",
          "name": "stdout",
          "text": [
            "1 ) Areas ENE  FM-162021 ->  0.0 ,  0.0 ,  0.0 ,  0.0 ,  0.0 ,  0.0 ,  0.0 ,  0.0 ,  0.0 ,  0.0 ,  0.0 ,  14.6\n",
            "2 ) Areas ENE  MS-152020 ->  0.0 ,  0.0 ,  0.0 ,  0.0 ,  0.0 ,  0.0 ,  0.0 ,  0.0 ,  0.0 ,  0.0 ,  0.0 ,  0.0\n",
            "3 ) Areas ENE  MS-162020 ->  0.0 ,  0.0 ,  0.0 ,  0.0 ,  0.0 ,  0.0 ,  0.0 ,  0.0 ,  0.0 ,  0.0 ,  0.0 ,  33.2\n",
            "4 ) Areas ENE  PB-532021 ->  0.0 ,  0.0 ,  0.0 ,  0.0 ,  0.0 ,  0.0 ,  0.0 ,  0.0 ,  0.0 ,  0.0 ,  0.0 ,  31.9\n",
            "5 ) Areas ENE  PR-052021 ->  0.0 ,  0.0 ,  0.0 ,  0.0 ,  0.0 ,  0.0 ,  0.0 ,  0.0 ,  0.0 ,  0.0 ,  0.0 ,  0.0\n",
            "6 ) Areas ENE  FC-062021 ->  0.0 ,  0.0 ,  0.0 ,  0.0 ,  0.0 ,  0.0 ,  0.0 ,  0.0 ,  0.0 ,  0.0 ,  0.0 ,  0.0\n",
            "7 ) Areas ENE  MS-112021 ->  0.0 ,  0.0 ,  0.0 ,  0.0 ,  0.0 ,  0.0 ,  0.0 ,  0.0 ,  0.0 ,  0.0 ,  0.0 ,  0.0\n",
            "8 ) Areas ENE  PB-512021 ->  0.0 ,  0.0 ,  0.0 ,  0.0 ,  0.0 ,  0.0 ,  0.0 ,  0.0 ,  24.0 ,  0.0 ,  150.0 ,  0.0\n",
            "9 ) Areas ENE  PB-552020 ->  0.0 ,  0.0 ,  0.0 ,  0.0 ,  0.0 ,  0.0 ,  0.0 ,  6.3 ,  0.0 ,  4.6 ,  130.1 ,  0.0\n",
            "10 ) Areas ENE  PB-552021 ->  0.0 ,  0.0 ,  0.0 ,  0.0 ,  0.0 ,  0.0 ,  0.0 ,  0.0 ,  0.0 ,  44.0 ,  0.0 ,  0.0\n",
            "11 ) Areas ENE  PB-562020 ->  0.0 ,  0.0 ,  0.0 ,  0.0 ,  0.0 ,  0.0 ,  0.0 ,  0.0 ,  0.0 ,  0.0 ,  0.0 ,  53.9\n",
            "12 ) Areas ENE  PB-562020 ->  0.0 ,  0.0 ,  0.0 ,  0.0 ,  0.0 ,  0.0 ,  0.0 ,  0.0 ,  78.9 ,  0.0 ,  0.0 ,  0.0\n",
            "13 ) Areas ENE  PB-562021 ->  0.0 ,  0.0 ,  0.0 ,  0.0 ,  0.0 ,  0.0 ,  0.0 ,  0.0 ,  0.0 ,  44.6 ,  0.0 ,  25.4\n",
            "14 ) Areas ENE  MS-092020 ->  0.0 ,  0.0 ,  0.0 ,  0.0 ,  0.0 ,  0.0 ,  0.0 ,  3.4 ,  61.5 ,  65.0 ,  0.0 ,  8.7\n",
            "15 ) Areas ENE  PB-582021 ->  0.0 ,  0.0 ,  0.0 ,  0.0 ,  0.0 ,  0.0 ,  0.0 ,  38.6 ,  0.0 ,  0.0 ,  0.0 ,  0.0\n",
            "16 ) Areas ENE  PB-632021 ->  0.0 ,  0.0 ,  0.0 ,  0.0 ,  0.0 ,  0.0 ,  0.0 ,  0.0 ,  0.0 ,  50.8 ,  0.0 ,  0.0\n",
            "17 ) Areas ENE  PB-642021 ->  0.0 ,  0.0 ,  0.0 ,  0.0 ,  0.0 ,  0.0 ,  0.0 ,  0.0 ,  71.8 ,  0.0 ,  0.0 ,  0.0\n",
            "18 ) Areas ENE  PB-812021 ->  0.0 ,  0.0 ,  0.0 ,  0.0 ,  0.0 ,  0.0 ,  0.0 ,  117.2 ,  0.0 ,  0.0 ,  0.0 ,  0.0\n",
            "Vol>  1 -> 0.0\n",
            "Vol>  2 -> 0.0\n",
            "Vol>  3 -> 0.0\n",
            "Vol>  4 -> 0.0\n",
            "Vol>  5 -> 0.0\n",
            "Vol>  6 -> 0.0\n",
            "Vol>  7 -> 0.0\n",
            "Vol>  8 -> 2250000.000603963\n",
            "Vol>  9 -> 2705734.249426289\n",
            "Vol>  10 -> 2500000.004755767\n",
            "Vol>  11 -> 1999999.9891167746\n",
            "Vol>  12 -> 1800000.001734312\n",
            "11255734.245637104\n"
          ]
        }
      ]
    },
    {
      "cell_type": "markdown",
      "source": [
        "Correccion de errores"
      ],
      "metadata": {
        "id": "srTsz8HmrnvB"
      }
    },
    {
      "cell_type": "code",
      "source": [
        "# Matriz que obtiene los resultados de las areas optimizadas de cosecha\n",
        "matrizAreaRes = [[0] * columnas for _ in range(filas)]\n",
        "# Impresion de errores\n",
        "countErrores = 0\n",
        "for i in range(columnas): #recorre columnas\n",
        "  for j in range(filas): # recorre filas\n",
        "    matrizAreaRes [j][i] = area_a_cosechar[j][i].value()\n",
        "    if area_a_cosechar[j][i].value() <0:\n",
        "      countErrores = countErrores + 1\n",
        "print(\"Errores-> \", countErrores)\n",
        "\n",
        "volTotalRes = []\n",
        "areaTotalRes = []\n",
        "rendTotalRes = []\n",
        "for j in range(columnas):\n",
        "\n",
        "  volTotal = sum(matrizRendAux[i][j]*matrizAreaRes[i][j] for i in range(filas))\n",
        "  volTotalRes.append(round(volTotal,1))\n",
        "  areaTotal = sum(area_a_cosechar[i][j].value() for i in range(filas))\n",
        "  areaTotalRes.append(round(areaTotal,1))\n",
        "print(\"----------------------------------\")\n",
        "print(\"Volumen por mes\")\n",
        "print(volTotalRes)\n",
        "print(\"Area a cosechar por mes\")\n",
        "print(areaTotalRes)\n",
        "\n",
        "for k in range(len(volTotalRes)):\n",
        "  if volTotalRes[k]>0:\n",
        "    rendTotalRes.append(round(volTotalRes[k]/areaTotalRes[k],1))\n",
        "  else:\n",
        "    rendTotalRes.append(0)\n",
        "print(\"Area a cosechar por mes\")\n",
        "print(rendTotalRes)\n",
        "print(\"----------------------------------\")\n",
        "\n",
        "# Remanentes\n",
        "for j in range(filas): # recorre filas\n",
        "  if round(sum(matrizAreaRes[j]),2)<= round(colAreaNeta[j],2)-1:\n",
        "    print(colSitioAnio[j], \"-- \", round(sum(matrizAreaRes[j]),2),\"--\", round(colAreaNeta[j],2), \"-- Remanente 2025 -- \",round(colAreaNeta[j],2)-round(sum(matrizAreaRes[j]),2))\n",
        "  else:\n",
        "    print(colSitioAnio[j], \"-- \", round(sum(matrizAreaRes[j]),2),\"--\", round(colAreaNeta[j],2))"
      ],
      "metadata": {
        "id": "JO8cJR3mrqA5",
        "colab": {
          "base_uri": "https://localhost:8080/"
        },
        "outputId": "f7428e8f-cc96-46fc-ff37-ca1a8fe5629a"
      },
      "execution_count": 332,
      "outputs": [
        {
          "output_type": "stream",
          "name": "stdout",
          "text": [
            "Errores->  0\n",
            "----------------------------------\n",
            "Volumen por mes\n",
            "[0.0, 0.0, 0.0, 0.0, 0.0, 0.0, 0.0, 2250000.0, 2500000.0, 2500000.0, 2000000.0, 1800000.0]\n",
            "Area a cosechar por mes\n",
            "[0.0, 0.0, 0.0, 0.0, 0.0, 0.0, 0.0, 165.4, 236.3, 209.0, 280.1, 167.7]\n",
            "Area a cosechar por mes\n",
            "[0, 0, 0, 0, 0, 0, 0, 13603.4, 10579.8, 11961.7, 7140.3, 10733.5]\n",
            "----------------------------------\n",
            "FM-162021 --  14.56 -- 14.56\n",
            "MS-152020 --  0.0 -- 35.54 -- Remanente 2025 --  35.54\n",
            "MS-162020 --  33.22 -- 33.22\n",
            "PB-532021 --  31.9 -- 81.46 -- Remanente 2025 --  49.559999999999995\n",
            "PR-052021 --  0.0 -- 4.02 -- Remanente 2025 --  4.02\n",
            "FC-062021 --  0.0 -- 42.19 -- Remanente 2025 --  42.19\n",
            "MS-112021 --  0.0 -- 66.55 -- Remanente 2025 --  66.55\n",
            "PB-512021 --  174.0 -- 174.08\n",
            "PB-552020 --  140.9 -- 213.37 -- Remanente 2025 --  72.47\n",
            "PB-552021 --  44.0 -- 44.56\n",
            "PB-562020 --  53.89 -- 53.89\n",
            "PB-562020 --  78.93 -- 78.93\n",
            "PB-562021 --  70.05 -- 70.05\n",
            "MS-092020 --  138.6 -- 138.6\n",
            "PB-582021 --  38.6 -- 38.6\n",
            "PB-632021 --  50.81 -- 50.81\n",
            "PB-642021 --  71.85 -- 71.85\n",
            "PB-812021 --  117.2 -- 117.2\n"
          ]
        }
      ]
    },
    {
      "cell_type": "markdown",
      "source": [
        "Creacion del Excel con resultados\n"
      ],
      "metadata": {
        "id": "vmJpXKDR_swZ"
      }
    },
    {
      "cell_type": "code",
      "source": [
        "columnasRes = 13+12+12\n",
        "matrizResultados = [[0] * columnasRes for _ in range(filas)]\n",
        "\n",
        "#Asignación de nombres de sitio a la matriz de resultados\n",
        "for h in range(filas):\n",
        "  matrizResultados[h][0] = colSitioAnio[h]\n",
        "k=1\n",
        "\n",
        "# Asignación de resultados a la matriz\n",
        "for k in range(columnasRes):\n",
        "  for h in range(filas):\n",
        "    if k>0 and k<=12:\n",
        "      matrizResultados[h][k] = area_a_cosechar[h][k-1].value()\n",
        "    if k>12 and k<=24:\n",
        "      matrizResultados[h][k] = matrizRendAux[h][k-1-12]\n",
        "    if k>24:\n",
        "      matrizResultados[h][k] = matrizRendAux[h][k-1-24]*area_a_cosechar[h][k-1-24].value()\n",
        "\n",
        "for f in range(filas):\n",
        "  print(matrizResultados[f])\n",
        "\n",
        "# Crea el Excel con los resultados,  areas por mes\n",
        "#Nombres de las columnas del excel\n",
        "nomColRes = ['Sitio-Año de plantación', 'Área ENE 2024', 'Área FEB 2024','Área MAR 2024', 'Área ABR 2024','Área MAY 2024','Área JUN 2024','Área JUL 2024','Área AGO 2024', 'Área SEP 2024','Área OCT 2024','Área NOV 2024','Área DIC 2024','Rendimiento ENE 2024','Rendimiento FEB 2024','Rendimiento MAR 2024','Rendimiento ABR 2024','Rendimiento MAY 2024','Rendimiento JUN 2024','Rendimiento JUL 2024','Rendimiento AGO 2024','Rendimiento SEP 2024','Rendimiento OCT 2024','Rendimiento NOV 2024','Rendimiento DIC 2024','VOL ENE 2024','VOL FEB 2024','VOL MAR 2024','VOL ABR 2024','VOL MAY 2024','VOL JUN 2024','VOL JUL 2024','VOL AGO 2024','VOL SEP 2024','VOL OCT 2024','VOL NOV 2024','VOL DIC 2024']\n",
        "#Crea el data frame con los nombres de columnas y la matriz de resultados\n",
        "df1 = pd.DataFrame(matrizResultados, columns=nomColRes)\n",
        "# Path donde se crea el archivo resOptimizacion\n",
        "pathExcel = '/content/drive/MyDrive/PB/resOptimizacion.xlsx'\n",
        "#Guarda el data frame en el excel\n",
        "df1.to_excel(pathExcel, index=False)\n",
        "\n",
        "\n",
        "#Creacion de matriz de remanentes.\n",
        "colRem = 4\n",
        "matrizRemanentes = [[0] * colRem for _ in range(filas)]\n",
        "for j in range(filas):\n",
        "  matrizRemanentes[j][0] = colSitioAnio[j]\n",
        "  matrizRemanentes[j][1] = sum(matrizAreaRes[j])\n",
        "  matrizRemanentes[j][2] = colAreaNeta[j]\n",
        "  matrizRemanentes[j][3] = colAreaNeta[j] - sum(matrizAreaRes[j])\n",
        "\n",
        "print(matrizRemanentes)\n",
        "#Titulos de remanentes\n",
        "nomMatRem = ['Sitio-Año de plantación','Area a cosechar', 'Area neta Sitio', 'Remanente']\n",
        "#Crea el data frame de remanentes\n",
        "df2 =pd.DataFrame(matrizRemanentes, columns=nomMatRem)\n",
        "pathExcel2 = '/content/drive/MyDrive/PB/remanenteOptimizacion.xlsx'\n",
        "#Guarda el data frame en el excel\n",
        "df2.to_excel(pathExcel2, index=False)\n"
      ],
      "metadata": {
        "id": "GcQtmrUY_vWJ",
        "colab": {
          "base_uri": "https://localhost:8080/"
        },
        "outputId": "05ef55e2-5347-43bc-9ff3-4322e9adef50"
      },
      "execution_count": 333,
      "outputs": [
        {
          "output_type": "stream",
          "name": "stdout",
          "text": [
            "['FM-162021', 0.0, 0.0, 0.0, 0.0, 0.0, 0.0, 0.0, 0.0, 0.0, 0.0, 0.0, 14.56, 0, 0, 0, 0, 0, 0, 0, 0, 14628.821185829973, 15321.902640006409, 15968.801045790824, 16572.344878695254, 0.0, 0.0, 0.0, 0.0, 0.0, 0.0, 0.0, 0.0, 0.0, 0.0, 0.0, 241293.3414338029]\n",
            "['MS-152020', 0.0, 0.0, 0.0, 0.0, 0.0, 0.0, 0.0, 0.0, 0.0, 0.0, 0.0, 0.0, 0, 9107.620802390013, 9658.655002210391, 10175.964072922125, 10661.032982425671, 11115.528792558605, 11541.19966910297, 11939.804673014993, 12313.066762794077, 12662.642889701048, 12990.106392500407, 13296.938030791607, 0.0, 0.0, 0.0, 0.0, 0.0, 0.0, 0.0, 0.0, 0.0, 0.0, 0.0, 0.0]\n",
            "['MS-162020', 0.0, 0.0, 0.0, 0.0, 0.0, 0.0, 0.0, 0.0, 0.0, 0.0, 0.0, 33.22, 10416.298470703594, 10988.914527010053, 11525.309516822901, 12027.282738129385, 12496.77920843128, 12935.790847809843, 13346.289163491992, 13730.181451847338, 14089.284126270919, 14425.308207759705, 14739.853220700837, 15034.406712205928, 0.0, 0.0, 0.0, 0.0, 0.0, 0.0, 0.0, 0.0, 0.0, 0.0, 0.0, 499442.9909794809]\n",
            "['PB-532021', 0.0, 0.0, 0.0, 0.0, 0.0, 0.0, 0.0, 0.0, 0.0, 0.0, 0.0, 31.902679, 0, 0, 0, 0, 0, 0, 0, 0, 0, 13853.249636164588, 14456.134291333594, 15018.44168369679, 0.0, 0.0, 0.0, 0.0, 0.0, 0.0, 0.0, 0.0, 0.0, 0.0, 0.0, 479128.52411519823]\n",
            "['PR-052021', 0.0, 0.0, 0.0, 0.0, 0.0, 0.0, 0.0, 0.0, 0.0, 0.0, 0.0, 0.0, 0, 0, 0, 0, 0, 0, 0, 0, 0, 0, 20136.102744509553, 20897.6350151203, 0.0, 0.0, 0.0, 0.0, 0.0, 0.0, 0.0, 0.0, 0.0, 0.0, 0.0, 0.0]\n",
            "['FC-062021', 0.0, 0.0, 0.0, 0.0, 0.0, 0.0, 0.0, 0.0, 0.0, 0.0, 0.0, 0.0, 0, 0, 0, 0, 0, 0, 0, 0, 0, 0, 0, 13135.839112534739, 0.0, 0.0, 0.0, 0.0, 0.0, 0.0, 0.0, 0.0, 0.0, 0.0, 0.0, 0.0]\n",
            "['MS-112021', 0.0, 0.0, 0.0, 0.0, 0.0, 0.0, 0.0, 0.0, 0.0, 0.0, 0.0, 0.0, 0, 0, 0, 0, 0, 0, 0, 0, 0, 0, 0, 15684.908677813462, 0.0, 0.0, 0.0, 0.0, 0.0, 0.0, 0.0, 0.0, 0.0, 0.0, 0.0, 0.0]\n",
            "['PB-512021', 0.0, 0.0, 0.0, 0.0, 0.0, 0.0, 0.0, 0.0, 24.0, 0.0, 150.0, 0.0, 0, 0, 0, 0, 0, 0, 0, 0, 0, 0, 9604.56389411183, 10086.922825657568, 0.0, 0.0, 0.0, 0.0, 0.0, 0.0, 0.0, 0.0, 0.0, 0.0, 1440684.5841167746, 0.0]\n",
            "['PB-552020', 0.0, 0.0, 0.0, 0.0, 0.0, 0.0, 0.0, 6.2566475, 0.0, 4.57, 130.07335, 0.0, 0, 0, 4300.0, 4300.0, 4300.0, 4300.0, 4300.0, 4300.0, 4300.0, 4300.0, 4300.0, 4300.0, 0.0, 0.0, 0.0, 0.0, 0.0, 0.0, 0.0, 26903.58425, 0.0, 19651.0, 559315.405, 0.0]\n",
            "['PB-552021', 0.0, 0.0, 0.0, 0.0, 0.0, 0.0, 0.0, 0.0, 0.0, 44.0, 0.0, 0.0, 0, 0, 0, 0, 4300.0, 4300.0, 4300.0, 4300.0, 4300.0, 4300.0, 4300.0, 4300.0, 0.0, 0.0, 0.0, 0.0, 0.0, 0.0, 0.0, 0.0, 0.0, 189200.0, 0.0, 0.0]\n",
            "['PB-562020', 0.0, 0.0, 0.0, 0.0, 0.0, 0.0, 0.0, 0.0, 0.0, 0.0, 0.0, 53.89, 0, 4300.0, 4300.0, 4300.0, 4300.0, 4300.0, 4300.0, 4300.0, 4300.0, 4300.0, 4300.0, 4300.0, 0.0, 0.0, 0.0, 0.0, 0.0, 0.0, 0.0, 0.0, 0.0, 0.0, 0.0, 231727.0]\n",
            "['PB-562020', 0.0, 0.0, 0.0, 0.0, 0.0, 0.0, 0.0, 0.0, 78.93, 0.0, 0.0, 0.0, 0, 4300.0, 4300.0, 4300.0, 4300.0, 4300.0, 4300.0, 4300.0, 4300.0, 4300.0, 4300.0, 4300.0, 0.0, 0.0, 0.0, 0.0, 0.0, 0.0, 0.0, 0.0, 339399.00000000006, 0.0, 0.0, 0.0]\n",
            "['PB-562021', 0.0, 0.0, 0.0, 0.0, 0.0, 0.0, 0.0, 0.0, 0.0, 44.6, 0.0, 25.45, 0, 0, 0, 0, 4300.0, 4300.0, 4300.0, 4300.0, 4300.0, 4300.0, 4300.0, 4300.0, 0.0, 0.0, 0.0, 0.0, 0.0, 0.0, 0.0, 0.0, 0.0, 191780.0, 0.0, 109435.0]\n",
            "['MS-092020', 0.0, 0.0, 0.0, 0.0, 0.0, 0.0, 0.0, 3.3687168, 61.48527, 65.041559, 0.0, 8.7044544, 20676.88281713905, 21553.21037473677, 22364.447140801676, 23115.377817485027, 23810.6582215024, 24454.716854825387, 25051.699722167905, 25605.445301724183, 26119.479805940304, 26597.025495174985, 27041.016865561352, 27454.12109986237, 0.0, 0.0, 0.0, 0.0, 0.0, 0.0, 0.0, 86257.49375939932, 1605963.2681277872, 1729912.002968928, 0.0, 238973.14520582982]\n",
            "['PB-582021', 0.0, 0.0, 0.0, 0.0, 0.0, 0.0, 0.0, 38.6, 0.0, 0.0, 0.0, 0.0, 0, 0, 13158.735340274641, 13787.60410790316, 14384.333128113714, 14949.746486995164, 15484.758791949753, 15990.358438445564, 16467.59366055997, 16917.559707081324, 17341.38649633596, 17740.226651720677, 0.0, 0.0, 0.0, 0.0, 0.0, 0.0, 0.0, 617227.8357239988, 0.0, 0.0, 0.0, 0.0]\n",
            "['PB-632021', 0.0, 0.0, 0.0, 0.0, 0.0, 0.0, 0.0, 0.0, 0.0, 50.81, 0.0, 0.0, 0, 0, 0, 5315.004676828632, 5686.948738368399, 6040.058291827186, 6374.54310693915, 6690.840935356463, 6989.544142392609, 7271.3442587451145, 7536.990836259718, 7787.261466739195, 0.0, 0.0, 0.0, 0.0, 0.0, 0.0, 0.0, 0.0, 0.0, 369457.0017868393, 0.0, 0.0]\n",
            "['PB-642021', 0.0, 0.0, 0.0, 0.0, 0.0, 0.0, 0.0, 0.0, 71.85, 0.0, 0.0, 0.0, 0, 0, 5826.41591147306, 6188.14613685311, 6530.634144692831, 6854.329504899406, 7159.854589024835, 7447.941219621386, 7719.38387290382, 7975.005848452586, 8215.635372498115, 8442.089164776455, 0.0, 0.0, 0.0, 0.0, 0.0, 0.0, 0.0, 0.0, 554637.7312681394, 0.0, 0.0, 0.0]\n",
            "['PB-812021', 0.0, 0.0, 0.0, 0.0, 0.0, 0.0, 0.0, 117.2, 0.0, 0.0, 0.0, 0.0, 0, 0, 10836.858036987569, 11327.347615111037, 11783.290829893933, 12206.8911455041, 12600.384765229062, 12965.96490503895, 13305.733482146881, 13621.672740326121, 13915.630961821516, 14189.317821388384, 0.0, 0.0, 0.0, 0.0, 0.0, 0.0, 0.0, 1519611.086870565, 0.0, 0.0, 0.0, 0.0]\n",
            "[['FM-162021', 14.56, 14.56, 0.0], ['MS-152020', 0.0, 35.54, 35.54], ['MS-162020', 33.22, 33.22, 0.0], ['PB-532021', 31.902679, 81.46, 49.557320999999995], ['PR-052021', 0.0, 4.02, 4.02], ['FC-062021', 0.0, 42.190000000000005, 42.190000000000005], ['MS-112021', 0.0, 66.55, 66.55], ['PB-512021', 174.0, 174.08, 0.0800000000000125], ['PB-552020', 140.8999975, 213.37, 72.47000249999999], ['PB-552021', 44.0, 44.56, 0.5600000000000023], ['PB-562020', 53.89, 53.88999999999999, -7.105427357601002e-15], ['PB-562020', 78.93, 78.93, 0.0], ['PB-562021', 70.05, 70.05, 0.0], ['MS-092020', 138.6000002, 138.6, -2.000000165480742e-07], ['PB-582021', 38.6, 38.6, 0.0], ['PB-632021', 50.81, 50.81, 0.0], ['PB-642021', 71.85, 71.85, 0.0], ['PB-812021', 117.2, 117.19999999999999, -1.4210854715202004e-14]]\n"
          ]
        }
      ]
    }
  ]
}