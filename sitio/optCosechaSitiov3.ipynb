{
  "nbformat": 4,
  "nbformat_minor": 0,
  "metadata": {
    "colab": {
      "provenance": [],
      "mount_file_id": "14QY2mdoi5MLu3JS2zwYHtNYsMA82VpZY",
      "authorship_tag": "ABX9TyODy+hmPhUEMqblOYm/wWVs",
      "include_colab_link": true
    },
    "kernelspec": {
      "name": "python3",
      "display_name": "Python 3"
    },
    "language_info": {
      "name": "python"
    }
  },
  "cells": [
    {
      "cell_type": "markdown",
      "metadata": {
        "id": "view-in-github",
        "colab_type": "text"
      },
      "source": [
        "<a href=\"https://colab.research.google.com/github/BryanCoboF/optimizacionCosecha/blob/main/sitio/optCosechaSitiov3.ipynb\" target=\"_parent\"><img src=\"https://colab.research.google.com/assets/colab-badge.svg\" alt=\"Open In Colab\"/></a>"
      ]
    },
    {
      "cell_type": "markdown",
      "source": [
        "Configuración Inicial\n",
        "Llamada a librerias"
      ],
      "metadata": {
        "id": "lPogpnOnaDMS"
      }
    },
    {
      "cell_type": "code",
      "execution_count": 3,
      "metadata": {
        "id": "AfrjyXy-Z7Qk",
        "colab": {
          "base_uri": "https://localhost:8080/"
        },
        "outputId": "c76a4d07-8b91-4a18-a7fe-136c8677a386"
      },
      "outputs": [
        {
          "output_type": "stream",
          "name": "stdout",
          "text": [
            "Requirement already satisfied: pulp in /usr/local/lib/python3.10/dist-packages (2.7.0)\n"
          ]
        }
      ],
      "source": [
        "#Configuracion de librerias\n",
        "%config IPCompleter.greedy=True\n",
        "!pip install pulp\n",
        "import pandas as pd\n",
        "import numpy as np\n",
        "import xlrd\n",
        "import seaborn as sb\n",
        "import matplotlib.pyplot as plt\n",
        "from matplotlib.ticker import PercentFormatter\n",
        "import pulp\n",
        "from pulp import LpVariable, LpProblem, LpMaximize, LpMinimize\n",
        "from pydrive.auth import GoogleAuth\n",
        "from pydrive.drive import GoogleDrive\n",
        "\n"
      ]
    },
    {
      "cell_type": "markdown",
      "source": [
        "Carga de datos de Excel desde drive"
      ],
      "metadata": {
        "id": "1n2Zfd2naLWH"
      }
    },
    {
      "cell_type": "code",
      "source": [
        "from google.colab import files\n",
        "from google.colab import drive\n",
        "\n",
        "drive.mount('/content/drive') # Permite ingresar a drive desde las carpetas de drive\n",
        "\n",
        "df = pd.read_excel(\"/content/drive/MyDrive/PB/BaseOptimizacion.xlsx\") # Carga el excel de datos de proyeccion, si se necesita cambiar el archivo se debe modificar el link\n",
        "\n"
      ],
      "metadata": {
        "id": "Ja62JauvaMvx",
        "colab": {
          "base_uri": "https://localhost:8080/"
        },
        "outputId": "780863f3-f0b6-4166-ab24-e5caeb7bb38c"
      },
      "execution_count": 38,
      "outputs": [
        {
          "output_type": "stream",
          "name": "stdout",
          "text": [
            "Drive already mounted at /content/drive; to attempt to forcibly remount, call drive.mount(\"/content/drive\", force_remount=True).\n"
          ]
        }
      ]
    },
    {
      "cell_type": "markdown",
      "source": [
        "Ingreso de datos deseados\n",
        "\n",
        "\n",
        "1.   Volumen deseado por cada mes\n",
        "3.   Densidad deseada por cada mes\n",
        "2.   Edad minima y maxima deseada\n"
      ],
      "metadata": {
        "id": "3UWQP7U2aaWK"
      }
    },
    {
      "cell_type": "code",
      "source": [
        "# Volumen deseado cada mes\n",
        "vecVolDeseado = []\n",
        "vecVolR11minDeseado = []\n",
        "vecVolR11maxDeseado = []\n",
        "vecVolmaxDeseado = []\n",
        "vecDensminDeseada = []\n",
        "vecDensmaxDeseada = []\n",
        "\n",
        "semanasMes = [4,4,5,4,5,4,4,5,4,4,5,4] #Numero de semanas por cada mes\n",
        "\n",
        "#Ingreso de volumen anual deseado\n",
        "volDes = float(input(\"Ingrese el volumen deseado 2024: \"))\n",
        "\n",
        "# Calculo del volumen deseado para cada mes en base al deseado anual y las semanas que tiene cada mes.\n",
        "for i in range(12):\n",
        "  vecVolDeseado.append((volDes/52)*semanasMes[i])\n",
        "\n",
        "print(vecVolDeseado)\n",
        "print(sum(vecVolDeseado))\n",
        "\n",
        "#Ingreso de edad deseada\n",
        "edadMinDes = float(input(\"Ingrese la edad minima de cosecha : \"))\n",
        "areaMaxCosecha = float(input(\"Ingrese el area máxima cosechable por sitio cada mes: \"))"
      ],
      "metadata": {
        "id": "Z6e90qhEadZQ",
        "colab": {
          "base_uri": "https://localhost:8080/"
        },
        "outputId": "d588f244-5e24-470c-eede-7cfadf4245da"
      },
      "execution_count": 93,
      "outputs": [
        {
          "name": "stdout",
          "output_type": "stream",
          "text": [
            "Ingrese el volumen deseado 2024: 27000000\n",
            "[2076923.076923077, 2076923.076923077, 2596153.846153846, 2076923.076923077, 2596153.846153846, 2076923.076923077, 2076923.076923077, 2596153.846153846, 2076923.076923077, 2076923.076923077, 2596153.846153846, 2076923.076923077]\n",
            "26999999.999999996\n",
            "Ingrese la edad minima de cosecha : 26\n",
            "Ingrese el area máxima cosechable por sitio cada mes: 100\n"
          ]
        }
      ]
    },
    {
      "cell_type": "markdown",
      "source": [
        "OBTENCION  DE DATOS DEL EXCEL\n",
        "Creación de Diccionarios Y VECTORES\n"
      ],
      "metadata": {
        "id": "USVEaCtVn-bh"
      }
    },
    {
      "cell_type": "code",
      "source": [
        "# Obtencion de datos de sitio-año de plantacion\n",
        "colSitioAnio = df['Sitio-AñoPlantación']\n",
        "\n",
        "# Obtencion de datos area neta\n",
        "colAreaNeta = df['Sum of Área Neta del Lote (Ha)']\n",
        "\n",
        "# ------------- Obtencion de datos de edad -----------------\n",
        "# Recibe data frame con los datos de cada mes del excel\n",
        "# Crea un diccionario por cada mes con los datos por sitio-lote\n",
        "#Enero\n",
        "colEdadEne = df['Sum of Edad pond ENE']\n",
        "#Febrero\n",
        "colEdadFeb = df['Sum of Edad pond FEB']\n",
        "#Marzo\n",
        "colEdadMar = df['Sum of Edad pond MAR']\n",
        "#Abril\n",
        "colEdadAbr = df['Sum of Edad pond ABR']\n",
        "#Mayo\n",
        "colEdadMay = df['Sum of Edad pond MAY']\n",
        "#Junio\n",
        "colEdadJun = df['Sum of Edad pond JUN']\n",
        "#Julio\n",
        "colEdadJul = df['Sum of Edad pond JUL']\n",
        "#Agosto\n",
        "colEdadAgo = df['Sum of Edad pond AGO']\n",
        "#Septiembre\n",
        "colEdadSep = df['Sum of Edad pond SEP']\n",
        "#Octubre\n",
        "colEdadOct = df['Sum of Edad pond OCT']\n",
        "#Noviembre\n",
        "colEdadNov = df['Sum of Edad pond NOV']\n",
        "#Diciembre\n",
        "colEdadDic = df['Sum of Edad pond DIC']\n",
        "\n",
        "\n",
        "#--------OBTENCION DE DATOS DE RENDIMIENTO ----------------\n",
        "# Obtiene los datos de rendimiento del data frame de excel de cada mes proyectado\n",
        "#Enero\n",
        "colRendProyEne = df['Sum of Rend pond ENE']\n",
        "#Febrero\n",
        "colRendProyFeb = df['Sum of Rend pond FEB']\n",
        "#Marzo\n",
        "colRendProyMar = df['Sum of Rend pond MAR']\n",
        "#Abril\n",
        "colRendProyAbr = df['Sum of Rend pond ABR']\n",
        "#Mayo\n",
        "colRendProyMay = df['Sum of Rend pond MAY']\n",
        "#Junio\n",
        "colRendProyJun = df['Sum of Rend pond JUN']\n",
        "#Julio\n",
        "colRendProyJul = df['Sum of Rend pond JUL']\n",
        "#Agosto\n",
        "colRendProyAgo = df['Sum of Rend pond AGO']\n",
        "#Septiembre\n",
        "colRendProySep = df['Sum of Rend pond SEP']\n",
        "#Octubre\n",
        "colRendProyOct = df['Sum of Rend pond OCT']\n",
        "#Noviembre\n",
        "colRendProyNov = df['Sum of Rend pond NOV']\n",
        "#Dicimebre\n",
        "colRendProyDic = df['Sum of Rend pond DIC']\n",
        "\n",
        "#------- OBTENCION DE DATOS DE ACCESIBILIDAD -------------------\n",
        "#Enero\n",
        "colAccesoEne = df['Sum of AccesibilidadENE']\n",
        "#Febrero\n",
        "colAccesoFeb = df['Sum of AccesibilidadFEB']\n",
        "#Marzo\n",
        "colAccesoMar = df['Sum of AccesibilidadMAR']\n",
        "#Abril\n",
        "colAccesoAbr = df['Sum of AccesibilidadABR']\n",
        "#Mayo\n",
        "colAccesoMay = df['Sum of AccesibilidadMAY']\n",
        "#Junio\n",
        "colAccesoJun = df['Sum of AccesibilidadJUN']\n",
        "#Julio\n",
        "colAccesoJul = df['Sum of AccesibilidadJUL']\n",
        "#Agosto\n",
        "colAccesoAgo = df['Sum of AccesibilidadAGO']\n",
        "#Septiembre\n",
        "colAccesoSep = df['Sum of AccesibilidadSEP']\n",
        "#Octubre\n",
        "colAccesoOct = df['Sum of AccesibilidadOCT']\n",
        "#Novimebre\n",
        "colAccesoNov = df['Sum of AccesibilidadNOV']\n",
        "#Diciembre\n",
        "colAccesoDic = df['Sum of AccesibilidadDIC']\n",
        "\n",
        "\n",
        "\n",
        "# ---------CREACION DE MATRICES POR CADA MES DEL AÑO ------------\n",
        "filas = len(colSitioAnio)  # Número de filas\n",
        "columnas = 12  # Número de columnas (meses del siguiente año)\n",
        "\n",
        "#//MATRICES//\n",
        "# Inicializa las matrices n filas y 12 columnas\n",
        "#Todos los valores se inicializan  con cero  /// Todas las matrices son del mismo tamaño\n",
        "matrizEdad = [[0] * columnas for _ in range(filas)]\n",
        "matrizRend = [[0] * columnas for _ in range(filas)]\n",
        "matrizRendAux = [[0] * columnas for _ in range(filas)]\n",
        "matrizAcceso = [[0] * columnas for _ in range(filas)]\n",
        "\n",
        "# -------------Asignacion de valores a cada mes de las matrices---------\n",
        "# Matriz de Edades por cada mes del 2024\n",
        "# Matriz  de rendimientos\n",
        "# Matriz de Accesibilidad\n",
        "\n",
        "for i in range(columnas): #recorre columnas\n",
        "  for j in range(filas): # recorre filas\n",
        "    if i == 0:\n",
        "      matrizEdad[j][i] = colEdadEne[j]\n",
        "      matrizRend[j][i] = colRendProyEne[j]\n",
        "      matrizAcceso[j][i] = colAccesoEne [j]\n",
        "\n",
        "    if i == 1:\n",
        "      matrizEdad[j][i] = colEdadFeb[j]\n",
        "      matrizRend[j][i] = colRendProyFeb[j]\n",
        "      matrizAcceso[j][i] = colAccesoFeb [j]\n",
        "\n",
        "    if i == 2:\n",
        "      matrizEdad[j][i] = colEdadMar[j]\n",
        "      matrizRend[j][i] = colRendProyMar[j]\n",
        "      matrizAcceso[j][i] = colAccesoMar [j]\n",
        "\n",
        "    if i == 3:\n",
        "      matrizEdad[j][i] = colEdadAbr[j]\n",
        "      matrizRend[j][i] = colRendProyAbr[j]\n",
        "      matrizAcceso[j][i] = colAccesoAbr [j]\n",
        "\n",
        "    if i == 4:\n",
        "      matrizEdad[j][i] = colEdadMay[j]\n",
        "      matrizRend[j][i] = colRendProyMay[j]\n",
        "      matrizAcceso[j][i] = colAccesoMay [j]\n",
        "\n",
        "    if i == 5:\n",
        "      matrizEdad[j][i] = colEdadJun[j]\n",
        "      matrizRend[j][i] = colRendProyJun[j]\n",
        "      matrizAcceso[j][i] = colAccesoJun [j]\n",
        "\n",
        "    if i == 6:\n",
        "      matrizEdad[j][i] = colEdadJul[j]\n",
        "      matrizRend[j][i] = colRendProyJul[j]\n",
        "      matrizAcceso[j][i] = colAccesoJul [j]\n",
        "\n",
        "    if i == 7:\n",
        "      matrizEdad[j][i] = colEdadAgo[j]\n",
        "      matrizRend[j][i] = colRendProyAgo[j]\n",
        "      matrizAcceso[j][i] = colAccesoAgo [j]\n",
        "\n",
        "    if i == 8:\n",
        "      matrizEdad[j][i] = colEdadSep[j]\n",
        "      matrizRend[j][i] = colRendProySep[j]\n",
        "      matrizAcceso[j][i] = colAccesoSep [j]\n",
        "\n",
        "    if i == 9:\n",
        "      matrizEdad[j][i] = colEdadOct[j]\n",
        "      matrizRend[j][i] = colRendProyOct[j]\n",
        "      matrizAcceso[j][i] = colAccesoOct [j]\n",
        "\n",
        "    if i == 10:\n",
        "      matrizEdad[j][i] = colEdadNov[j]\n",
        "      matrizRend[j][i] = colRendProyNov[j]\n",
        "      matrizAcceso[j][i] = colAccesoNov [j]\n",
        "\n",
        "    if i == 11:\n",
        "      matrizEdad[j][i] = colEdadDic[j]\n",
        "      matrizRend[j][i] = colRendProyDic[j]\n",
        "      matrizAcceso[j][i] = colAccesoDic [j]\n",
        "\n"
      ],
      "metadata": {
        "id": "WAXxHaNXoW9n"
      },
      "execution_count": 94,
      "outputs": []
    },
    {
      "cell_type": "markdown",
      "source": [
        "Creacion del diccionario con todas las edades"
      ],
      "metadata": {
        "id": "pH9Iqn0cxLFE"
      }
    },
    {
      "cell_type": "markdown",
      "source": [
        "RESTRICCION DE EDAD DE COSECHA Y ACCESIBILIDAD"
      ],
      "metadata": {
        "id": "QR8RVZxjA9DC"
      }
    },
    {
      "cell_type": "code",
      "source": [
        "# Si el sitio cumple con los requerimientos de edad y accesibilidad en ese mes se asgina el rendimiento proyectado,\n",
        "# caso contrario se asigna 0\n",
        "# Pregunta primero si desea aplicar las restricciones\n",
        "\n",
        "restEdad = float(input(\"Desea restringir edad? (SI: Ingrese 1,  NO: Ingrese 0) : \"))\n",
        "restAcceso = float(input(\"Desea restringir accesibilidad? (SI: Ingrese 1,  NO: Ingrese 0) : \"))\n",
        "\n",
        "\n",
        "if restEdad == 1 and restAcceso == 1:\n",
        "  # Restricciones completas --- Se corre solo si se ingreso que se desea restringir edad y acceso\n",
        "  for i in range(columnas): #recorre columnas\n",
        "    for j in range(filas): # recorre filas\n",
        "      if matrizAcceso[j][i] == 1 and matrizEdad[j][i] >= 26:\n",
        "        matrizRendAux[j][i] = matrizRend[j][i]\n",
        "      else:\n",
        "        matrizRendAux[j][i] = 0\n",
        "elif restEdad== 0 and restAcceso == 1:\n",
        "  # Restriccion de acceso unicamente\n",
        "  for i in range(columnas): #recorre columnas\n",
        "    for j in range(filas): # recorre filas\n",
        "      if matrizAcceso[j][i] == 1:\n",
        "        matrizRendAux[j][i] = matrizRend[j][i]\n",
        "      else:\n",
        "        matrizRendAux[j][i] = 0\n",
        "elif restEdad== 1 and restAcceso == 0:\n",
        "  # Restriccion solo de edad\n",
        "  for i in range(columnas): #recorre columnas\n",
        "    for j in range(filas): # recorre filas\n",
        "      if matrizEdad[j][i] >= 26:\n",
        "        matrizRendAux[j][i] = matrizRend[j][i]\n",
        "      else:\n",
        "        matrizRendAux[j][i] = 0\n",
        "elif restEdad== 0 and restAcceso == 0:\n",
        "  # Sin restricciones\n",
        "  for i in range(columnas): #recorre columnas\n",
        "    for j in range(filas): # recorre filas\n",
        "      matrizRendAux[j][i] = matrizRend[j][i]"
      ],
      "metadata": {
        "id": "3bOLOEH0BApS",
        "colab": {
          "base_uri": "https://localhost:8080/"
        },
        "outputId": "b296ff42-c116-49be-dfc6-9d5ed5477569"
      },
      "execution_count": 95,
      "outputs": [
        {
          "name": "stdout",
          "output_type": "stream",
          "text": [
            "Desea restringir edad? (SI: Ingrese 1,  NO: Ingrese 0) : 0\n",
            "Desea restringir accesibilidad? (SI: Ingrese 1,  NO: Ingrese 0) : 0\n"
          ]
        }
      ]
    },
    {
      "cell_type": "markdown",
      "source": [
        "-------------------------------------------"
      ],
      "metadata": {
        "id": "ASeSQ0E_C4_x"
      }
    },
    {
      "cell_type": "markdown",
      "source": [
        "MODELO OPTIMIZACION"
      ],
      "metadata": {
        "id": "fRHSxSj5C1mY"
      }
    },
    {
      "cell_type": "markdown",
      "source": [
        "------------------------------------------------------------"
      ],
      "metadata": {
        "id": "9_0M60oRC8Si"
      }
    },
    {
      "cell_type": "code",
      "source": [
        "#****************************** MODELO*********************************************************************************\n",
        "#-------------Definicion del modelo-----------------\n",
        "optCosecha = pulp.LpProblem('OptimizacionCosecha',pulp.LpMinimize) #Inicialmente busca minimizar el area de cosecha para obtener el volumen necesario para Enero\n",
        "\n",
        "\n",
        "# ------------VARIABLE DE DECISION (AREA A COSECHAR)-------------------\n",
        "area_a_cosechar = [[pulp.LpVariable(f'x{i}_{j}', lowBound=0, cat='Continuous') for j in range(columnas)] for i in range(filas)]\n",
        "\n",
        "\n",
        "#--------------FUNCION OBJETIVO-------------------------\n",
        "#optCosecha += sum([rend_EneAux[i]*area_a_cosechar_Ene[i]+rend_FebAux[i]*area_a_cosechar_Feb[i]+ rend_MarAux[i]*area_a_cosechar_Mar[i]+rend_AbrAux[i]*area_a_cosechar_Abr[i]+rend_MayAux[i]*area_a_cosechar_May[i]+rend_JunAux[i]*area_a_cosechar_Jun[i]+rend_JulAux[i]*area_a_cosechar_Jul[i]+rend_AgoAux[i]*area_a_cosechar_Ago[i]+rend_SepAux[i]*area_a_cosechar_Sep[i]+rend_OctAux[i]*area_a_cosechar_Oct[i]+rend_NovAux[i]*area_a_cosechar_Nov[i]+rend_DicAux[i]*area_a_cosechar_Dic[i] for i in colSitioAnio])\n",
        "optCosecha += pulp.lpSum(matrizRendAux[i][j]*area_a_cosechar[i][j] for j in range(columnas) for i in range(filas))\n",
        "\n",
        "\n",
        "#--------------RESTRICCIONES----------------------------\n",
        "# 1) -- Restringe las areas a cosechar de cada sitio y mes para que no sean mayores al area neta\n",
        "for i in range(columnas): #recorre columnas\n",
        "  for j in range(filas): # recorre filas\n",
        "    optCosecha += area_a_cosechar[j][i] >= 0\n",
        "    optCosecha += area_a_cosechar[j][i] <= colAreaNeta[j]\n",
        "    optCosecha += area_a_cosechar[j][i] <= areaMaxCosecha\n",
        "\n",
        "# 2) -- Restringe que la suma del area a cosecha de cada sitio en todo el año sea menor o igual al area neta\n",
        "for j in range(filas): # recorre filas\n",
        "  optCosecha += sum(area_a_cosechar[j]) <= colAreaNeta[j]\n",
        "\n",
        "# 3) Restriccion de volumen anual\n",
        "optCosecha += pulp.lpSum(matrizRendAux[i][j]*area_a_cosechar[i][j] for j in range(columnas) for i in range(filas)) <= volDes\n",
        "\n",
        "# 4) Restringe los volumenes de cada mes dependiendo del volumen deseado\n",
        "for j in range(columnas):\n",
        "  optCosecha += sum(matrizRendAux[i][j]*area_a_cosechar[i][j] for i in range(filas)) <= vecVolDeseado[j]\n",
        "  optCosecha += sum(matrizRendAux[i][j]*area_a_cosechar[i][j] for i in range(filas)) >= vecVolDeseado[j]-50000\n",
        "#----------------------------------------------------------\n",
        "\n",
        "#Resolucion\n",
        "optCosecha.solve()\n",
        "#****************************** MODELO*********************************************************************************\n",
        "\n",
        "\n",
        "#--------------Impresion de resultados preliminares--------------------------------------------------------------------\n",
        "a=1\n",
        "for j in range(filas): # recorre filas\n",
        "  # Imprime cada sitio con el area asignada en el mes que se va a cosechar\n",
        "  print(a, \") Areas ENE \", colSitioAnio[j], \"-> \" ,round(area_a_cosechar[j][0].value(),1), \", \" ,round(area_a_cosechar[j][1].value(),1), \", \" ,round(area_a_cosechar[j][2].value(),1),\", \" ,round(area_a_cosechar[j][3].value(),1),\", \" ,round(area_a_cosechar[j][4].value(),1),\", \" ,round(area_a_cosechar[j][5].value(),1),\", \" ,round(area_a_cosechar[j][6].value(),1),\", \" ,round(area_a_cosechar[j][7].value(),1), \", \" ,round(area_a_cosechar[j][8].value(),1),\", \" ,round(area_a_cosechar[j][9].value(),1),\", \" ,round(area_a_cosechar[j][10].value(),1),\", \" ,round(area_a_cosechar[j][11].value(),1))\n",
        "  a = a+1\n",
        "\n",
        "for b in range(columnas):\n",
        "  #Imprime el volumen a entregar cada mes\n",
        "  print(\"Vol> \", b+1, \"->\", sum(matrizRend[i][b]*area_a_cosechar[i][b].value() for i in range(filas) ))\n",
        "\n",
        "#Imprime el volumen total anual\n",
        "print(sum(matrizRend[i][j]*area_a_cosechar[i][j].value() for j in range(columnas) for i in range(filas) ))\n",
        "#-----------------------------------------------------------------------------------------------------------------------\n",
        "\n"
      ],
      "metadata": {
        "id": "4E-ui9nkC3pQ"
      },
      "execution_count": null,
      "outputs": []
    },
    {
      "cell_type": "markdown",
      "source": [
        "Correccion de errores"
      ],
      "metadata": {
        "id": "srTsz8HmrnvB"
      }
    },
    {
      "cell_type": "code",
      "source": [
        "# Matriz que obtiene los resultados de las areas optimizadas de cosecha\n",
        "matrizAreaRes = [[0] * columnas for _ in range(filas)]\n",
        "# Impresion de errores\n",
        "countErrores = 0\n",
        "for i in range(columnas): #recorre columnas\n",
        "  for j in range(filas): # recorre filas\n",
        "    matrizAreaRes [j][i] = area_a_cosechar[j][i].value()\n",
        "    if area_a_cosechar[j][i].value() <0:\n",
        "      countErrores = countErrores + 1\n",
        "print(\"Errores-> \", countErrores)\n",
        "\n",
        "# Remanentes\n",
        "for j in range(filas): # recorre filas\n",
        "  if round(sum(matrizAreaRes[j]),2)<= round(colAreaNeta[j],2)-1:\n",
        "    print(colSitioAnio[j], \"-- \", round(sum(matrizAreaRes[j]),2),\"--\", round(colAreaNeta[j],2), \"-- Remanente 2025 -- \",round(colAreaNeta[j],2)-round(sum(matrizAreaRes[j]),2))\n",
        "  else:\n",
        "    print(colSitioAnio[j], \"-- \", round(sum(matrizAreaRes[j]),2),\"--\", round(colAreaNeta[j],2))"
      ],
      "metadata": {
        "id": "JO8cJR3mrqA5"
      },
      "execution_count": null,
      "outputs": []
    },
    {
      "cell_type": "markdown",
      "source": [
        "Creacion del Excel con resultados\n"
      ],
      "metadata": {
        "id": "vmJpXKDR_swZ"
      }
    },
    {
      "cell_type": "code",
      "source": [
        "columnasRes = 13\n",
        "matrizResultados = [[0] * columnasRes for _ in range(filas)]\n",
        "\n",
        "#Asignación de nombres de sitio a la matriz de resultados\n",
        "for h in range(filas):\n",
        "  matrizResultados[h][0] = colSitioAnio[h]\n",
        "k=1\n",
        "\n",
        "# Asignación de resultados a la matriz\n",
        "for k in range(columnasRes):\n",
        "  for h in range(filas):\n",
        "    if k>0:\n",
        "      matrizResultados[h][k] = area_a_cosechar[h][k-1].value()\n",
        "\n",
        "\n",
        "\n",
        "for f in range(filas):\n",
        "  print(matrizResultados[f])\n",
        "\n",
        "#Nombres de las columnas del excel\n",
        "nomColRes = ['Sitio-Año de plantación', 'Área ENE 2024', 'Área FEB 2024','Área MAR 2024', 'Área ABR 2024','Área MAY 2024','Área JUN 2024','Área JUL 2024','Área AGO 2024', 'Área SEP 2024','Área OCT 2024','Área NOV 2024','Área DIC 2024']\n",
        "\n",
        "#Crea el data frame con los nombres de columnas y la matriz de resultados\n",
        "df1 = pd.DataFrame(matrizResultados, columns=nomColRes)\n",
        "\n",
        "# Path donde se crea el archivo resOptimizacion\n",
        "pathExcel = '/content/drive/MyDrive/PB/resOptimizacion.xlsx'\n",
        "\n",
        "#Guarda el data frame en el excel\n",
        "df1.to_excel(pathExcel, index=False)\n",
        "\n"
      ],
      "metadata": {
        "id": "GcQtmrUY_vWJ"
      },
      "execution_count": null,
      "outputs": []
    }
  ]
}